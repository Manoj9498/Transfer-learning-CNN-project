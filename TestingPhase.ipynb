{
 "cells": [
  {
   "cell_type": "code",
   "execution_count": 5,
   "id": "eae6ca5a",
   "metadata": {},
   "outputs": [
    {
     "name": "stdout",
     "output_type": "stream",
     "text": [
      "Collecting mtcnn\n",
      "  Downloading mtcnn-0.1.1-py3-none-any.whl (2.3 MB)\n",
      "     ---------------------------------------- 0.0/2.3 MB ? eta -:--:--\n",
      "      --------------------------------------- 0.0/2.3 MB 1.3 MB/s eta 0:00:02\n",
      "     - -------------------------------------- 0.1/2.3 MB 991.0 kB/s eta 0:00:03\n",
      "     -- ------------------------------------- 0.2/2.3 MB 1.3 MB/s eta 0:00:02\n",
      "     ---- ----------------------------------- 0.2/2.3 MB 1.6 MB/s eta 0:00:02\n",
      "     ------- -------------------------------- 0.4/2.3 MB 1.9 MB/s eta 0:00:01\n",
      "     -------- ------------------------------- 0.5/2.3 MB 1.9 MB/s eta 0:00:01\n",
      "     ---------- ----------------------------- 0.6/2.3 MB 2.0 MB/s eta 0:00:01\n",
      "     ------------- -------------------------- 0.8/2.3 MB 2.3 MB/s eta 0:00:01\n",
      "     --------------- ------------------------ 0.9/2.3 MB 2.2 MB/s eta 0:00:01\n",
      "     ------------------ --------------------- 1.1/2.3 MB 2.4 MB/s eta 0:00:01\n",
      "     --------------------- ------------------ 1.2/2.3 MB 2.4 MB/s eta 0:00:01\n",
      "     ---------------------- ----------------- 1.3/2.3 MB 2.4 MB/s eta 0:00:01\n",
      "     ---------------------- ----------------- 1.3/2.3 MB 2.4 MB/s eta 0:00:01\n",
      "     -------------------------- ------------- 1.5/2.3 MB 2.4 MB/s eta 0:00:01\n",
      "     ---------------------------- ----------- 1.6/2.3 MB 2.3 MB/s eta 0:00:01\n",
      "     ------------------------------ --------- 1.7/2.3 MB 2.3 MB/s eta 0:00:01\n",
      "     --------------------------------- ------ 1.9/2.3 MB 2.4 MB/s eta 0:00:01\n",
      "     ----------------------------------- ---- 2.0/2.3 MB 2.4 MB/s eta 0:00:01\n",
      "     ------------------------------------ --- 2.1/2.3 MB 2.4 MB/s eta 0:00:01\n",
      "     ------------------------------------- -- 2.1/2.3 MB 2.3 MB/s eta 0:00:01\n",
      "     ---------------------------------------- 2.3/2.3 MB 2.4 MB/s eta 0:00:00\n",
      "Requirement already satisfied: opencv-python>=4.1.0 in c:\\users\\manoj\\anaconda3\\envs\\namma_environment\\lib\\site-packages (from mtcnn) (4.7.0.72)\n",
      "Requirement already satisfied: keras>=2.0.0 in c:\\users\\manoj\\anaconda3\\envs\\namma_environment\\lib\\site-packages (from mtcnn) (2.6.0)\n",
      "Requirement already satisfied: numpy>=1.17.3 in c:\\users\\manoj\\anaconda3\\envs\\namma_environment\\lib\\site-packages (from opencv-python>=4.1.0->mtcnn) (1.23.5)\n",
      "Installing collected packages: mtcnn\n",
      "Successfully installed mtcnn-0.1.1\n",
      "Note: you may need to restart the kernel to use updated packages.\n"
     ]
    }
   ],
   "source": [
    "pip install mtcnn"
   ]
  },
  {
   "cell_type": "code",
   "execution_count": 6,
   "id": "4c82f056",
   "metadata": {},
   "outputs": [],
   "source": [
    "import cv2\n",
    "import tensorflow as tf\n",
    "from tensorflow.keras.models import load_model\n",
    "import numpy as np\n",
    "from pygame import mixer\n",
    "from mtcnn.mtcnn import MTCNN"
   ]
  },
  {
   "cell_type": "code",
   "execution_count": 7,
   "id": "6656e426",
   "metadata": {},
   "outputs": [],
   "source": [
    "face_cascade = cv2.CascadeClassifier(cv2.data.haarcascades + 'haarcascade_frontalface_default.xml')\n",
    "eye_cascade = cv2.CascadeClassifier(cv2.data.haarcascades + 'haarcascade_eye.xml')\n",
    "model = load_model(r'C:\\Users\\manoj\\OneDrive\\Desktop\\namma project\\new_model\\model.h5')"
   ]
  },
  {
   "cell_type": "code",
   "execution_count": 4,
   "id": "42aaac35",
   "metadata": {},
   "outputs": [
    {
     "name": "stdout",
     "output_type": "stream",
     "text": [
      "< cv2.CascadeClassifier 000001F22C510ED0>\n"
     ]
    }
   ],
   "source": [
    "print(eye_cascade)"
   ]
  },
  {
   "cell_type": "code",
   "execution_count": null,
   "id": "d24b6dc9",
   "metadata": {},
   "outputs": [],
   "source": [
    "#detector=MTCNN()"
   ]
  },
  {
   "cell_type": "code",
   "execution_count": 13,
   "id": "80e332ac",
   "metadata": {},
   "outputs": [],
   "source": [
    "mixer.init()\n",
    "sound= mixer.Sound(r'C:\\Users\\manoj\\Downloads\\file_example_WAV_1MG.wav')\n",
    "capture = cv2.VideoCapture(0)\n",
    "Score=0\n",
    "while True:\n",
    "    ret , frame = capture.read()\n",
    "    height,width = frame.shape[0:2]\n",
    "    gray = cv2.cvtColor(frame, cv2.COLOR_BGR2GRAY)\n",
    "    faces = face_cascade.detectMultiScale(gray, scaleFactor=1.2, minNeighbors=5)\n",
    "    eyes = eye_cascade.detectMultiScale(gray, scaleFactor=1.1, minNeighbors=5)\n",
    "    \n",
    "    cv2.rectangle(frame, (0,height-50), (200,height), (0,0,0), thickness=cv2.FILLED)\n",
    "    \n",
    "    for (x,y,w,h) in faces:\n",
    "        cv2.rectangle(frame, pt1 = (x,y), pt2 = (x+w, y+h), color = (255,0,255), thickness=2)\n",
    "        \n",
    "    for (ex,ey,ew,eh) in eyes:\n",
    "        cv2.rectangle(frame, pt1 = (ex,ey), pt2 = (ex+ew, ey+eh), color = (255,0,255), thickness=2)\n",
    "        eye = frame[ey:ey+eh, ex:ex+ew]\n",
    "        eye = cv2.resize(eye,(80,80))\n",
    "        eye = eye/255\n",
    "        eye = eye.reshape(80,80,3)\n",
    "        eye = np.expand_dims(eye,axis=0)\n",
    "        \n",
    "        prediction = model.predict(eye)\n",
    "        if prediction[0][0]>0.70:\n",
    "            cv2.putText(frame,'closed',(10,height-20), fontFace=cv2.FONT_HERSHEY_COMPLEX_SMALL,fontScale=1,\n",
    "                        color=(255,255,255),thickness=1,lineType=cv2.LINE_AA)\n",
    "            cv2.putText(frame,'score:'+str(Score),(100,height-20), fontFace=cv2.FONT_HERSHEY_COMPLEX_SMALL,fontScale=1,\n",
    "                        color=(255,255,255),thickness=1)\n",
    "            Score=Score+1\n",
    "            if(Score>15):\n",
    "                try:\n",
    "                    sound.play()\n",
    "                except:\n",
    "                    pass\n",
    "        \n",
    "        elif prediction[0][1]>0.50:\n",
    "            cv2.putText(frame,'open',(10,height-20), fontFace=cv2.FONT_HERSHEY_COMPLEX_SMALL,fontScale=1,\n",
    "                        color=(255,255,255),thickness=1)\n",
    "            cv2.putText(frame,'score:'+str(Score),(100,height-20), fontFace=cv2.FONT_HERSHEY_COMPLEX_SMALL,fontScale=1,\n",
    "                        color=(255,255,255),thickness=1)\n",
    "            Score = Score-1\n",
    "            if (Score<0):\n",
    "                Score=0\n",
    "    cv2.imshow('frame',frame)\n",
    "    if cv2.waitKey(20) & 0xFF==ord('q'):\n",
    "        break\n",
    "        \n",
    "capture.release()\n",
    "cv2.destroyAllWindows()"
   ]
  },
  {
   "cell_type": "code",
   "execution_count": null,
   "id": "e36bd2a4",
   "metadata": {},
   "outputs": [],
   "source": []
  }
 ],
 "metadata": {
  "kernelspec": {
   "display_name": "Python 3 (ipykernel)",
   "language": "python",
   "name": "python3"
  },
  "language_info": {
   "codemirror_mode": {
    "name": "ipython",
    "version": 3
   },
   "file_extension": ".py",
   "mimetype": "text/x-python",
   "name": "python",
   "nbconvert_exporter": "python",
   "pygments_lexer": "ipython3",
   "version": "3.9.16"
  }
 },
 "nbformat": 4,
 "nbformat_minor": 5
}
